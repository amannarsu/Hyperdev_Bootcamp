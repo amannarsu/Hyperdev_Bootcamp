{
 "cells": [
  {
   "cell_type": "code",
   "execution_count": 2,
   "id": "716bbfd0-5d73-4c39-afd4-a0bfef3f00da",
   "metadata": {},
   "outputs": [
    {
     "name": "stdout",
     "output_type": "stream",
     "text": [
      "(891, 12)\n"
     ]
    },
    {
     "data": {
      "text/html": [
       "<div>\n",
       "<style scoped>\n",
       "    .dataframe tbody tr th:only-of-type {\n",
       "        vertical-align: middle;\n",
       "    }\n",
       "\n",
       "    .dataframe tbody tr th {\n",
       "        vertical-align: top;\n",
       "    }\n",
       "\n",
       "    .dataframe thead th {\n",
       "        text-align: right;\n",
       "    }\n",
       "</style>\n",
       "<table border=\"1\" class=\"dataframe\">\n",
       "  <thead>\n",
       "    <tr style=\"text-align: right;\">\n",
       "      <th></th>\n",
       "      <th>PassengerId</th>\n",
       "      <th>Survived</th>\n",
       "      <th>Pclass</th>\n",
       "      <th>Name</th>\n",
       "      <th>Sex</th>\n",
       "      <th>Age</th>\n",
       "      <th>SibSp</th>\n",
       "      <th>Parch</th>\n",
       "      <th>Ticket</th>\n",
       "      <th>Fare</th>\n",
       "      <th>Cabin</th>\n",
       "      <th>Embarked</th>\n",
       "    </tr>\n",
       "  </thead>\n",
       "  <tbody>\n",
       "    <tr>\n",
       "      <th>0</th>\n",
       "      <td>1</td>\n",
       "      <td>0</td>\n",
       "      <td>3</td>\n",
       "      <td>Braund, Mr. Owen Harris</td>\n",
       "      <td>male</td>\n",
       "      <td>22.0</td>\n",
       "      <td>1</td>\n",
       "      <td>0</td>\n",
       "      <td>A/5 21171</td>\n",
       "      <td>7.2500</td>\n",
       "      <td>NaN</td>\n",
       "      <td>S</td>\n",
       "    </tr>\n",
       "    <tr>\n",
       "      <th>1</th>\n",
       "      <td>2</td>\n",
       "      <td>1</td>\n",
       "      <td>1</td>\n",
       "      <td>Cumings, Mrs. John Bradley (Florence Briggs Th...</td>\n",
       "      <td>female</td>\n",
       "      <td>38.0</td>\n",
       "      <td>1</td>\n",
       "      <td>0</td>\n",
       "      <td>PC 17599</td>\n",
       "      <td>71.2833</td>\n",
       "      <td>C85</td>\n",
       "      <td>C</td>\n",
       "    </tr>\n",
       "    <tr>\n",
       "      <th>2</th>\n",
       "      <td>3</td>\n",
       "      <td>1</td>\n",
       "      <td>3</td>\n",
       "      <td>Heikkinen, Miss. Laina</td>\n",
       "      <td>female</td>\n",
       "      <td>26.0</td>\n",
       "      <td>0</td>\n",
       "      <td>0</td>\n",
       "      <td>STON/O2. 3101282</td>\n",
       "      <td>7.9250</td>\n",
       "      <td>NaN</td>\n",
       "      <td>S</td>\n",
       "    </tr>\n",
       "    <tr>\n",
       "      <th>3</th>\n",
       "      <td>4</td>\n",
       "      <td>1</td>\n",
       "      <td>1</td>\n",
       "      <td>Futrelle, Mrs. Jacques Heath (Lily May Peel)</td>\n",
       "      <td>female</td>\n",
       "      <td>35.0</td>\n",
       "      <td>1</td>\n",
       "      <td>0</td>\n",
       "      <td>113803</td>\n",
       "      <td>53.1000</td>\n",
       "      <td>C123</td>\n",
       "      <td>S</td>\n",
       "    </tr>\n",
       "    <tr>\n",
       "      <th>4</th>\n",
       "      <td>5</td>\n",
       "      <td>0</td>\n",
       "      <td>3</td>\n",
       "      <td>Allen, Mr. William Henry</td>\n",
       "      <td>male</td>\n",
       "      <td>35.0</td>\n",
       "      <td>0</td>\n",
       "      <td>0</td>\n",
       "      <td>373450</td>\n",
       "      <td>8.0500</td>\n",
       "      <td>NaN</td>\n",
       "      <td>S</td>\n",
       "    </tr>\n",
       "  </tbody>\n",
       "</table>\n",
       "</div>"
      ],
      "text/plain": [
       "   PassengerId  Survived  Pclass  \\\n",
       "0            1         0       3   \n",
       "1            2         1       1   \n",
       "2            3         1       3   \n",
       "3            4         1       1   \n",
       "4            5         0       3   \n",
       "\n",
       "                                                Name     Sex   Age  SibSp  \\\n",
       "0                            Braund, Mr. Owen Harris    male  22.0      1   \n",
       "1  Cumings, Mrs. John Bradley (Florence Briggs Th...  female  38.0      1   \n",
       "2                             Heikkinen, Miss. Laina  female  26.0      0   \n",
       "3       Futrelle, Mrs. Jacques Heath (Lily May Peel)  female  35.0      1   \n",
       "4                           Allen, Mr. William Henry    male  35.0      0   \n",
       "\n",
       "   Parch            Ticket     Fare Cabin Embarked  \n",
       "0      0         A/5 21171   7.2500   NaN        S  \n",
       "1      0          PC 17599  71.2833   C85        C  \n",
       "2      0  STON/O2. 3101282   7.9250   NaN        S  \n",
       "3      0            113803  53.1000  C123        S  \n",
       "4      0            373450   8.0500   NaN        S  "
      ]
     },
     "execution_count": 2,
     "metadata": {},
     "output_type": "execute_result"
    }
   ],
   "source": [
    "import pandas as pd\n",
    "import numpy as np\n",
    "# for Box-Cox Transformation\n",
    "from scipy import stats\n",
    "\n",
    "#stop warnings\n",
    "pd.options.mode.chained_assignment = None  # default='warn'\n",
    "\n",
    "\n",
    "# for min_max scaling\n",
    "from mlxtend.preprocessing import minmax_scaling\n",
    "\n",
    "# plotting modules\n",
    "import seaborn as sns\n",
    "import missingno\n",
    "\n",
    "import matplotlib.pyplot as plt\n",
    "from matplotlib import pyplot as plt\n",
    "\n",
    "\n",
    "df = pd.read_csv(\"Titanic.csv\")\n",
    "print(df.shape)\n",
    "\n",
    "df.head()"
   ]
  },
  {
   "cell_type": "markdown",
   "id": "4aed892c-9c15-4c91-ae4e-5d1503d1c4c6",
   "metadata": {},
   "source": [
    "#Cleaning data to make it usable\n",
    " #Starting with checking for missiing data"
   ]
  },
  {
   "cell_type": "code",
   "execution_count": 3,
   "id": "e559dfd9-3c7f-4c9c-9b75-be25b9ae4a03",
   "metadata": {},
   "outputs": [
    {
     "name": "stdout",
     "output_type": "stream",
     "text": [
      "Number of people Survived: 342, Number of people diseased 549 out of 891 passangerd aboard Titanic\n",
      "Thats 38.38383838383838 % people who survived the cruize\n"
     ]
    },
    {
     "data": {
      "image/png": "[encoded data removed]",
      "text/plain": [
       "<Figure size 2000x100 with 1 Axes>"
      ]
     },
     "metadata": {},
     "output_type": "display_data"
    }
   ],
   "source": [
    "#Looking at how many people survived\n",
    "survived = df.Survived[df['Survived'] > 0].count()\n",
    "deceased = df.Survived[df['Survived'] < 1].count()\n",
    "total_pasangers = df.Survived[df['Survived']].count()\n",
    "print(f\"Number of people Survived: {survived}, Number of people diseased {deceased} out of {total_pasangers} passangerd aboard Titanic\")\n",
    "print(f\"Thats {(survived/total_pasangers)*100} % people who survived the cruize\")\n",
    "#People that survuved by percent\n",
    "fig = plt.figure(figsize=(20,1))\n",
    "sns.countplot(y='Survived', data=df, stat=\"percent\");\n"
   ]
  },
  {
   "cell_type": "code",
   "execution_count": 21,
   "id": "d8fa104f-35a4-44a5-982a-1c5b2c8cf3f3",
   "metadata": {},
   "outputs": [
    {
     "name": "stdout",
     "output_type": "stream",
     "text": [
      "Sex\n",
      "female    314\n",
      "male      577\n",
      "dtype: int64\n",
      "      Sex  Survived\n",
      "0  female  0.742038\n",
      "1    male  0.188908\n"
     ]
    },
    {
     "data": {
      "text/plain": [
       "<Axes: xlabel='Sex', ylabel='Survived'>"
      ]
     },
     "execution_count": 21,
     "metadata": {},
     "output_type": "execute_result"
    },
    {
     "data": {
      "image/png": "[encoded data removed]",
      "text/plain": [
       "<Figure size 640x480 with 1 Axes>"
      ]
     },
     "metadata": {},
     "output_type": "display_data"
    }
   ],
   "source": [
    "#comparing between male and female survival\n",
    "total_sex= df.groupby('Sex').size()\n",
    "print(total_sex)\n",
    "#percentage of men/women that survived\n",
    "men_per = df[['Sex', 'Survived']].groupby('Sex', as_index=False).mean()\n",
    "print(men_per)\n",
    "\n",
    "#People that survived\n",
    "sns.set_color_codes(\"pastel\")\n",
    "sns.barplot(x=\"Sex\", y=\"Survived\", data=df, hue=\"Sex\")\n",
    "\n"
   ]
  },
  {
   "cell_type": "markdown",
   "id": "f5abc2e2-90dd-4355-919c-5e4ed64d163f",
   "metadata": {},
   "source": [
    "Looks like 74% of the women survived probably because its usiually women and children first"
   ]
  },
  {
   "cell_type": "code",
   "execution_count": 39,
   "id": "a4617d07-64ee-4c6b-b89a-efe94659e135",
   "metadata": {},
   "outputs": [
    {
     "name": "stdout",
     "output_type": "stream",
     "text": [
      "Pclass\n",
      "1    216\n",
      "2    184\n",
      "3    491\n",
      "dtype: int64\n"
     ]
    }
   ],
   "source": [
    "#Passangers based on Priority class(Pclass)\n",
    "priority_Class= df.groupby('Pclass').size()\n",
    "print(priority_Class)\n",
    "#sns.barplot(x=\"Pclass\", y=\"PassengerId\", hue=\"Pclass\", data=df)\n",
    "\n",
    "#sns.histplot(df['Pclass'],binwidth=0.1,kde = False)\n"
   ]
  },
  {
   "cell_type": "markdown",
   "id": "5ed97725-f925-4a39-bf80-331ebba4e502",
   "metadata": {},
   "source": [
    "Looks like majority of the people are in class 3, probably becaused its the cheapest tickets"
   ]
  },
  {
   "cell_type": "code",
   "execution_count": 51,
   "id": "9446ffa4-a654-4b14-b920-e3ad8d48072f",
   "metadata": {},
   "outputs": [
    {
     "name": "stdout",
     "output_type": "stream",
     "text": [
      "   Pclass       Fare\n",
      "0       1  84.154687\n",
      "1       2  20.662183\n",
      "2       3  13.675550\n"
     ]
    },
    {
     "data": {
      "image/png": "[encoded data removed]",
      "text/plain": [
       "<Figure size 640x480 with 1 Axes>"
      ]
     },
     "metadata": {},
     "output_type": "display_data"
    }
   ],
   "source": [
    "class_avg_Cost = df[['Pclass', 'Fare']].groupby('Pclass', as_index=False).mean()\n",
    "print(class_avg_Cost)\n",
    "#sb.swarmplot(x=\"species\", y=\"petal_length\", data=df)\n",
    "sns.boxplot(x=\"Pclass\", y=\"Fare\", hue=\"Pclass\", data=df)\n",
    "plt.show()\n"
   ]
  },
  {
   "cell_type": "markdown",
   "id": "abb3f026-d8ac-4a53-a1b7-209cdc35383f",
   "metadata": {},
   "source": [
    "Looks like, on average, the costs of the suit classes differ considerable with 1st class having highest cost, followed by 2nd class and 3rd class which is the cheapest"
   ]
  },
  {
   "cell_type": "code",
   "execution_count": 57,
   "id": "24a31efa-6886-4555-bf95-1a8185095143",
   "metadata": {},
   "outputs": [
    {
     "name": "stdout",
     "output_type": "stream",
     "text": [
      "   Pclass  Survived\n",
      "0       1  0.629630\n",
      "1       2  0.472826\n",
      "2       3  0.242363\n"
     ]
    },
    {
     "data": {
      "text/plain": [
       "<seaborn.axisgrid.FacetGrid at 0x1db41cc9460>"
      ]
     },
     "execution_count": 57,
     "metadata": {},
     "output_type": "execute_result"
    },
    {
     "data": {
      "image/png": "[encoded data removed]",
      "text/plain": [
       "<Figure size 491.111x400 with 2 Axes>"
      ]
     },
     "metadata": {},
     "output_type": "display_data"
    }
   ],
   "source": [
    "#Checking based on Pclass, what the survival rate is\n",
    "class_avg_Survival = df[['Pclass', 'Survived']].groupby('Pclass', as_index=False).mean()\n",
    "print(class_avg_Survival)\n",
    "\n",
    "sns.catplot(\n",
    "    data=df, x=\"Pclass\", y=\"Survived\", col=\"Sex\",\n",
    "    kind=\"bar\", height=4, aspect=.6\n",
    ")"
   ]
  },
  {
   "cell_type": "markdown",
   "id": "89083803-703e-4bd3-9cdc-e538f99dfa67",
   "metadata": {},
   "source": [
    "Looking at the data above, the survival rate is highest for people with 1st Priority, followed by 2nd class and 3rd class which is the lowest survival"
   ]
  },
  {
   "cell_type": "markdown",
   "id": "28533917-e6a6-4557-a6b3-e4a61d1e4a78",
   "metadata": {},
   "source": [
    "******CLEANING THE DATASET***********"
   ]
  },
  {
   "cell_type": "code",
   "execution_count": 10,
   "id": "f7467d0e-27a7-49cf-8eac-8b9fc97b3493",
   "metadata": {},
   "outputs": [
    {
     "data": {
      "text/plain": [
       "PassengerId      0\n",
       "Survived         0\n",
       "Pclass           0\n",
       "Name             0\n",
       "Sex              0\n",
       "Age            177\n",
       "SibSp            0\n",
       "Parch            0\n",
       "Ticket           0\n",
       "Fare             0\n",
       "Cabin          687\n",
       "Embarked         2\n",
       "dtype: int64"
      ]
     },
     "execution_count": 10,
     "metadata": {},
     "output_type": "execute_result"
    }
   ],
   "source": [
    "#checking missing data\n",
    "check_missing_data = df.isnull().sum()\n",
    "check_missing_data[0:14]"
   ]
  },
  {
   "cell_type": "markdown",
   "id": "77346738-af9f-4f54-9b02-7fb6ec203763",
   "metadata": {},
   "source": [
    "Looks like data is missing from Age, Cabin and Embarked columns. Lets work on Embarked column, First we will replace the data to something meaning full. Then we will delete the 2 rows that has missing data, since it has minimal damage to the dataset."
   ]
  },
  {
   "cell_type": "code",
   "execution_count": 12,
   "id": "027cc9b1-19f3-4033-8493-35559dfb3ee2",
   "metadata": {},
   "outputs": [
    {
     "data": {
      "text/plain": [
       "array(['S', 'C', 'Q', nan], dtype=object)"
      ]
     },
     "execution_count": 12,
     "metadata": {},
     "output_type": "execute_result"
    }
   ],
   "source": [
    "#there are 3 locations where travelers Embarked from:  Southampton(s), Cherbourg(c), and Queenstown(q)\n",
    "#lets confirm this\n",
    "pd.unique(df['Embarked'])"
   ]
  },
  {
   "cell_type": "code",
   "execution_count": 13,
   "id": "126f1752-cba8-4f0c-a81e-6f9968b65422",
   "metadata": {},
   "outputs": [
    {
     "data": {
      "text/plain": [
       "array(['Southampton', 'Cherbourg', 'Queenstown', nan], dtype=object)"
      ]
     },
     "execution_count": 13,
     "metadata": {},
     "output_type": "execute_result"
    }
   ],
   "source": [
    "#lets change the initials to names for the Embarked location to make it more human readable\n",
    "df['Embarked'] = df['Embarked'].str.replace('S','Southampton')\n",
    "df['Embarked'] = df['Embarked'].str.replace('C','Cherbourg')\n",
    "df['Embarked'] = df['Embarked'].str.replace('Q','Queenstown')\n",
    "pd.unique(df['Embarked'])\n",
    "#since there are only 2 values in Embark that have null values we can remove them\n"
   ]
  },
  {
   "cell_type": "code",
   "execution_count": 14,
   "id": "8ef9ef8c-6e22-4808-af7f-24bd6a67cfbb",
   "metadata": {},
   "outputs": [
    {
     "name": "stdout",
     "output_type": "stream",
     "text": [
      "     PassengerId  Survived  Pclass                                       Name  \\\n",
      "61            62         1       1                        Icard, Miss. Amelie   \n",
      "829          830         1       1  Stone, Mrs. George Nelson (Martha Evelyn)   \n",
      "\n",
      "        Sex   Age  SibSp  Parch  Ticket  Fare Cabin Embarked  \n",
      "61   female  38.0      0      0  113572  80.0   B28      NaN  \n",
      "829  female  62.0      0      0  113572  80.0   B28      NaN  \n"
     ]
    }
   ],
   "source": [
    "#lets work on the null values in the Embarked column.\n",
    "is_null_rows= df[df.isnull().any(axis=1)]\n",
    "null_rows = df.loc[df['Embarked'].isnull()]\n",
    "#checking which rows have null values from Embarked since there are only 2\n",
    "print(null_rows)"
   ]
  },
  {
   "cell_type": "code",
   "execution_count": 23,
   "id": "932cb3cb-4d2e-4fd6-9700-6f40ea94b716",
   "metadata": {},
   "outputs": [
    {
     "data": {
      "text/plain": [
       "PassengerId      0\n",
       "Survived         0\n",
       "Pclass           0\n",
       "Name             0\n",
       "Sex              0\n",
       "Age            177\n",
       "SibSp            0\n",
       "Parch            0\n",
       "Ticket           0\n",
       "Fare             0\n",
       "Cabin          687\n",
       "Embarked         0\n",
       "dtype: int64"
      ]
     },
     "execution_count": 23,
     "metadata": {},
     "output_type": "execute_result"
    }
   ],
   "source": [
    "#creating a new dataset to work with instead of working on the original and removing the rows with null in Embarked column\n",
    "df2 = df.dropna(axis= 0, subset=['Embarked'])\n",
    "df2.isnull().sum()"
   ]
  },
  {
   "cell_type": "markdown",
   "id": "26a0ada3-1977-495a-9ed1-a9bf308e7174",
   "metadata": {},
   "source": [
    "Since it is not possible to guess the age, lets update the null values , since Age in MAR we can fill the missing values with the mean"
   ]
  },
  {
   "cell_type": "code",
   "execution_count": 24,
   "id": "636790eb-30b4-464b-a251-91433c2af5a5",
   "metadata": {},
   "outputs": [
    {
     "name": "stdout",
     "output_type": "stream",
     "text": [
      "29\n"
     ]
    }
   ],
   "source": [
    "age_mean = int(df2['Age'].mean())\n",
    "print(age_mean)"
   ]
  },
  {
   "cell_type": "code",
   "execution_count": 25,
   "id": "47ca79cd-1e13-482f-a205-5a8b62afe121",
   "metadata": {},
   "outputs": [
    {
     "data": {
      "text/plain": [
       "PassengerId      0\n",
       "Survived         0\n",
       "Pclass           0\n",
       "Name             0\n",
       "Sex              0\n",
       "Age              0\n",
       "SibSp            0\n",
       "Parch            0\n",
       "Ticket           0\n",
       "Fare             0\n",
       "Cabin          687\n",
       "Embarked         0\n",
       "dtype: int64"
      ]
     },
     "execution_count": 25,
     "metadata": {},
     "output_type": "execute_result"
    }
   ],
   "source": [
    "df2['Age']= df2['Age'].fillna(age_mean)\n",
    "#checking missing data\n",
    "df2.isnull().sum()\n"
   ]
  },
  {
   "cell_type": "markdown",
   "id": "6e57e5ee-a3af-4303-998b-aa9c7467af38",
   "metadata": {},
   "source": [
    "Now its time to update the Cabin data, we can either replace missing data with mode, which would be the most similar values. We will do this per Priority Class data since i think the survival rate is connected to the location of the passangers."
   ]
  },
  {
   "cell_type": "code",
   "execution_count": 27,
   "id": "6542b61b-1c0f-4d75-80cf-53aa59d0fb8c",
   "metadata": {},
   "outputs": [
    {
     "data": {
      "text/plain": [
       "PassengerId    0\n",
       "Survived       0\n",
       "Pclass         0\n",
       "Name           0\n",
       "Sex            0\n",
       "Age            0\n",
       "SibSp          0\n",
       "Parch          0\n",
       "Ticket         0\n",
       "Fare           0\n",
       "Cabin          0\n",
       "Embarked       0\n",
       "dtype: int64"
      ]
     },
     "execution_count": 27,
     "metadata": {},
     "output_type": "execute_result"
    }
   ],
   "source": [
    "df2['Cabin']= df2['Cabin'].fillna(df2['Cabin'].mode()[0])\n",
    "#Confirming if null values are filled\n",
    "df2.isnull().sum()\n"
   ]
  },
  {
   "cell_type": "markdown",
   "id": "90913fcd-534f-46c1-b163-c3d55fbb9ca2",
   "metadata": {},
   "source": [
    "Now the data is usable to processes.."
   ]
  }
 ],
 "metadata": {
  "kernelspec": {
   "display_name": "Python 3 (ipykernel)",
   "language": "python",
   "name": "python3"
  },
  "language_info": {
   "codemirror_mode": {
    "name": "ipython",
    "version": 3
   },
   "file_extension": ".py",
   "mimetype": "text/x-python",
   "name": "python",
   "nbconvert_exporter": "python",
   "pygments_lexer": "ipython3",
   "version": "3.12.3"
  }
 },
 "nbformat": 4,
 "nbformat_minor": 5
}
