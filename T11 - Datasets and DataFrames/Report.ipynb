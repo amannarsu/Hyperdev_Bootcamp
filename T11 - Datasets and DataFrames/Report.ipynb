{
 "cells": [
  {
   "cell_type": "code",
   "execution_count": null,
   "metadata": {
    "id": "h0LVvvnfJsg5"
   },
   "outputs": [],
   "source": [
    "# Import pandas\n",
    "import pandas as pd"
   ]
  },
  {
   "cell_type": "code",
   "execution_count": 25,
   "metadata": {
    "id": "rv2oLRnPK36J"
   },
   "outputs": [],
   "source": [
    "# Create a DataFrame with balance.txt\n",
    "import pandas as pd\n",
    "df = pd.read_csv('balance.txt',sep=' ')"
   ]
  },
  {
   "cell_type": "raw",
   "metadata": {
    "id": "_LXpBJXZLYoh"
   },
   "source": [
    "Write the code needed to produce a report that provides the following information:\n",
    "* Compare the average income based on ethnicity.\n",
    "* On average, do married or single people have a higher balance?\n",
    "* What is the highest income in our dataset?\n",
    "* What is the lowest income in our dataset?\n",
    "* How many cards do we have recorded in our dataset? (Hint: use `sum()`)\n",
    "* How many females do we have information for vs how many males? (Hint: use `count()` for a list of all methods for computation of descriptive stats, explore the [pandas documentation](https://pandas.pydata.org/pandas-docs/stable/reference/frame.html#computations-descriptive-stats)).\n",
    "\n",
    "\n"
   ]
  },
  {
   "cell_type": "code",
   "execution_count": 83,
   "metadata": {},
   "outputs": [
    {
     "name": "stdout",
     "output_type": "stream",
     "text": [
      "The average income based on ethnicity is as follows:\n",
      "                     Balance     Income        Limit      Rating     Cards  \\\n",
      "Ethnicity                                                                   \n",
      "African American  13.801402  47.682101  4881.595960  365.070707  2.959596   \n",
      "Asian             13.293681  44.187833  4607.823529  345.431373  2.970588   \n",
      "Caucasian         13.313445  44.521945  4728.462312  354.773869  2.949749   \n",
      "\n",
      "                        Age  Education  \n",
      "Ethnicity                               \n",
      "African American  57.505051  13.525253  \n",
      "Asian             53.911765  13.607843  \n",
      "Caucasian         55.653266  13.331658  \n",
      "\n",
      "\n",
      "The average balance based on maddied vs single people:\n",
      "            Balance     Income        Limit      Rating     Cards        Age  \\\n",
      "Married                                                                       \n",
      "No       13.493509  43.641090  4645.303226  347.800000  2.974194  57.251613   \n",
      "Yes      13.388473  46.217082  4792.726531  359.457143  2.946939  54.665306   \n",
      "\n",
      "         Education  \n",
      "Married             \n",
      "No       13.258065  \n",
      "Yes      13.571429  \n",
      "\n",
      "The Highest Income in the Dataset is:  186.634\n",
      "\n",
      "The Lowest Income in the Dataset is:  10.354\n",
      "\n",
      "Number of cards in the Dataset is:  1183\n",
      "\n",
      "Number of Females in the Dataset:  207 \n",
      "\n",
      "Number of Males in the Dataset:  193\n"
     ]
    }
   ],
   "source": [
    "import pandas as pd\n",
    "df = pd.read_csv('balance.txt',sep= ' ')\n",
    "print(\"The average income based on ethnicity is as follows:\\n\",df.groupby(['Ethnicity']).mean('Income'))\n",
    "print(\"\\n\\nThe average balance based on maddied vs single people:\\n\",df.groupby(['Married']).mean('Balance'))\n",
    "print(\"\\nThe Highest Income in the Dataset is: \",df.loc[:,'Income'].max())\n",
    "print(\"\\nThe Lowest Income in the Dataset is: \",df.loc[:,'Income'].min())\n",
    "print(\"\\nNumber of cards in the Dataset is: \",df.loc[:,'Cards'].sum())\n",
    "#print(\"\\nNumber of females in the Dataset vs males is: \",df.loc[:,'Cards'].sum())\n",
    "print(\"\\nNumber of Females in the Dataset: \", df['Gender'].tolist().count('Female'),\"\\n\\nNumber of Males in the Dataset: \", df['Gender'].tolist().count('Male'))"
   ]
  },
  {
   "cell_type": "code",
   "execution_count": null,
   "metadata": {},
   "outputs": [],
   "source": []
  },
  {
   "cell_type": "code",
   "execution_count": null,
   "metadata": {},
   "outputs": [],
   "source": []
  }
 ],
 "metadata": {
  "colab": {
   "provenance": []
  },
  "kernelspec": {
   "display_name": "Python 3 (ipykernel)",
   "language": "python",
   "name": "python3"
  },
  "language_info": {
   "codemirror_mode": {
    "name": "ipython",
    "version": 3
   },
   "file_extension": ".py",
   "mimetype": "text/x-python",
   "name": "python",
   "nbconvert_exporter": "python",
   "pygments_lexer": "ipython3",
   "version": "3.12.2"
  }
 },
 "nbformat": 4,
 "nbformat_minor": 4
}
