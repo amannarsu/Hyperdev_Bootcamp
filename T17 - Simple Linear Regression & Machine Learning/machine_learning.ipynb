{
 "cells": [
  {
   "cell_type": "markdown",
   "metadata": {
    "id": "IBb6nSAY5T4I"
   },
   "source": [
    "# Machine Learning"
   ]
  },
  {
   "cell_type": "markdown",
   "metadata": {
    "id": "N02Qu9_f1N45"
   },
   "source": [
    "1. For each of the following examples describe at least one possible input and\n",
    "output. Justify your answers:  \n",
    "* 1.1 A self-driving car\n",
    "* 1.2 Netflix recommendation system\n",
    "* 1.3 Signature recognition\n",
    "* 1.4 Medical diagnosis\n"
   ]
  },
  {
   "cell_type": "markdown",
   "metadata": {
    "id": "-8aBqprP3ypo"
   },
   "source": [
    "1. Answer here\n",
    "\n",
    "|      | Input(s)        | Output         |\n",
    "| ---- | -----------     | ---------      |\n",
    "| 1.1  | eletricity      | Power          | -Once you charge the car with eletrictcity, there is power for it to move and provide other facilities\n",
    "| 1.2  | keyword         |similar items   | -If you put in a keyword and search, you'll see recommendations based on your search and other users\n",
    "| 1.3  | signature       | verification   | -If you sign correctly you get access to the documentitation with your security level\n",
    "| 1.4  |  Symptoms       |  treatment     | -If you describe your symptoms to the doctor, they would be able to verify your illness and provide                                                      appropriate treatment"
   ]
  },
  {
   "cell_type": "markdown",
   "metadata": {
    "id": "l_I2f4C85yNF"
   },
   "source": [
    "\n",
    "2. For each of the following case studies, determine whether it is appropriate to utilise regression or classification machine learning algorithms. Justify your answers:\n",
    "* 2.1 Classifying emails as promotion or social based on their content and metadata.\n",
    "* 2.2 Forecasting the stock price of a company based on historical data and market trends.\n",
    "* 2.3 Sorting images of animals into different species based on their visual features.\n",
    "* 2.4 Predicting the likelihood of a patient having a particular disease based on medical history and diagnostic test results."
   ]
  },
  {
   "cell_type": "markdown",
   "metadata": {
    "id": "WgMUsqQr6qFU"
   },
   "source": [
    "2. Answer here\n",
    "* 2.1- Classification as this involves sorting the emails into categories such as spam, promotion, updates etc\n",
    "* 2.2- Regression as the stock price keeps changing and based on historical data the algorithm needs to predict the stock prices\n",
    "* 2.3- Classification since we need to sort images and using classification it will match images based on examples\n",
    "* 2.4- Regression as this part need to predict the likelihood of the disease based on existing data which is non categorical"
   ]
  },
  {
   "cell_type": "markdown",
   "metadata": {
    "id": "b6f8UETG64hH"
   },
   "source": [
    "3. For each of the following real-world problems, determine whether it is appropriate to utilise a supervised or unsupervised machine learning algorithm. Justify your answers:\n",
    "* 3.1 Detecting anomalies in a manufacturing process using sensor data without prior knowledge of specific anomaly patterns.\n",
    "* 3.2 Predicting customer lifetime value based on historical transaction data and customer demographics.\n",
    "* 3.3 Segmenting customer demographics based on their purchase history, browsing behaviour, and preferences.\n",
    "* 3.4 Analysing social media posts to categorise them into different themes.\n"
   ]
  },
  {
   "cell_type": "markdown",
   "metadata": {
    "id": "W6dTYBvd675O"
   },
   "source": [
    "3. Answer here\n",
    "* 3.1- Supervised, since we need to feed it example data to be used for detecting the anomolies\n",
    "* 3.2- Unsupervised, since there is historical data that can be use to make predictions\n",
    "* 3.3- Unsupervised, since there is existing data available to make predictions\n",
    "* 3.4- Superviised, not sure on this one but it sounds like this requiers samples since we have not mentioned any or tags or any kind of keywords(Would have been unsupervised in that case)"
   ]
  },
  {
   "cell_type": "markdown",
   "metadata": {
    "id": "bqsun96o64xe"
   },
   "source": [
    "4.\n",
    "For each of the following real-world problems, determine whether it is appropriate to utilise semi-supervised machine learning algorithms. Justify your answers:\n",
    "* 4.1 Predicting fraudulent financial transactions using a dataset where most transactions are labelled as fraudulent or legitimate.\n",
    "* 4.2 Analysing customer satisfaction surveys where only a small portion of the data is labelled with satisfaction ratings.\n",
    "*4.3 Identifying spam emails in a dataset where the majority of emails are labelled.\n",
    "* 4.4 Predicting the probability of default for credit card applicants based on their complete financial and credit-related information.\n"
   ]
  },
  {
   "cell_type": "markdown",
   "metadata": {
    "id": "aTWugZ6q68GF"
   },
   "source": [
    "4. Answer here\n",
    "* 4.1- Would not need semi-supervised learning since majority of data is already labelled, this needs unsupervised algorithm\n",
    "* 4.2- This would possibly need it since only the raiting is missing, so it will need manual input to update and feed it to the algorithm\n",
    "* 4.3- Would not need it since, majority of the email are already labelled. this needs unsupervised algorithm.\n",
    "* 4.4- Would not need it since this already has the required data to make the predictions, it will be unsupervised"
   ]
  }
 ],
 "metadata": {
  "colab": {
   "provenance": []
  },
  "kernelspec": {
   "display_name": "Python 3 (ipykernel)",
   "language": "python",
   "name": "python3"
  },
  "language_info": {
   "codemirror_mode": {
    "name": "ipython",
    "version": 3
   },
   "file_extension": ".py",
   "mimetype": "text/x-python",
   "name": "python",
   "nbconvert_exporter": "python",
   "pygments_lexer": "ipython3",
   "version": "3.12.3"
  }
 },
 "nbformat": 4,
 "nbformat_minor": 4
}
