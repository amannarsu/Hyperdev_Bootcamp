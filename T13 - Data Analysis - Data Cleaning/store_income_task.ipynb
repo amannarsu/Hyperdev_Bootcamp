{
 "cells": [
  {
   "cell_type": "markdown",
   "metadata": {
    "id": "lqt_yzRy16Wj"
   },
   "source": [
    "## Task\n",
    "\n",
    "In this compulsory task you will clean the country column and parse the date column in the **store_income_data_task.csv** file."
   ]
  },
  {
   "cell_type": "code",
   "execution_count": 5,
   "metadata": {
    "id": "vBP3WN2O16Wp"
   },
   "outputs": [],
   "source": [
    "# Load up store_income_data.csv\n",
    "import pandas as pd\n",
    "import numpy as np\n",
    "df = pd.read_csv('store_income_data_task.csv', sep=',')"
   ]
  },
  {
   "cell_type": "markdown",
   "metadata": {
    "id": "ItqLwumA16Wr"
   },
   "source": [
    "1. Take a look at all the unique values in the \"country\" column. Then, convert the column to lowercase and remove any trailing white spaces."
   ]
  },
  {
   "cell_type": "code",
   "execution_count": 6,
   "metadata": {
    "id": "sLkzt4Hr16Wr"
   },
   "outputs": [
    {
     "name": "stdout",
     "output_type": "stream",
     "text": [
      "There are 77 unique countries\n",
      "There are 12 unique countries\n",
      "['united states' 'britain' 'united kingdom' 'u.k' 'sa' 'america' 's.a'\n",
      " 'england' 'uk' 's.a.' 'united states of america' 's. africasouth africa']\n"
     ]
    }
   ],
   "source": [
    "countries = df['country'].unique()\n",
    "print(f\"There are {len(countries)} unique countries\")\n",
    "df.dropna(subset=['country'])\n",
    "# Convert to lower case\n",
    "df['country'] = df['country'].str.lower()\n",
    "\n",
    "# Remove trailing slash symbol\n",
    "df['country'] = df['country'].str.strip('/')\n",
    "# Remove trailing full stop icon\n",
    "df['country'] = df['country'].str.strip('.')\n",
    "# Remove trailing white spaces\n",
    "df['country'] = df['country'].str.strip()\n",
    "\n",
    "df = df.replace([''], np.nan)\n",
    "\n",
    "df = df.dropna(subset=['country'])\n",
    "\n",
    "\n",
    "\n",
    "\n",
    "# Let us view the data\n",
    "countries = df['country'].unique()\n",
    "print(f\"There are {len(countries)} unique countries\")\n",
    "print(countries)"
   ]
  },
  {
   "cell_type": "markdown",
   "metadata": {
    "id": "P6dcDc4P16Ws"
   },
   "source": [
    "2. Note that there should only be three separate countries. Eliminate all variations, so that 'South Africa', 'United Kingdom' and 'United States' are the only three countries."
   ]
  },
  {
   "cell_type": "code",
   "execution_count": 7,
   "metadata": {
    "id": "qeV3CxMR16Ws"
   },
   "outputs": [
    {
     "name": "stderr",
     "output_type": "stream",
     "text": [
      "C:\\Python312\\Lib\\site-packages\\fuzzywuzzy\\fuzz.py:11: UserWarning: Using slow pure-python SequenceMatcher. Install python-Levenshtein to remove this warning\n",
      "  warnings.warn('Using slow pure-python SequenceMatcher. Install python-Levenshtein to remove this warning')\n"
     ]
    },
    {
     "name": "stdout",
     "output_type": "stream",
     "text": [
      "All done!\n",
      "All done!\n",
      "All done!\n",
      "All done!\n",
      "All done!\n",
      "All done!\n",
      "All done!\n",
      "All done!\n",
      "All done!\n",
      "All done!\n",
      "All done!\n",
      "All done!\n",
      "There are 3 unique countries\n"
     ]
    },
    {
     "data": {
      "text/plain": [
       "array(['united states', 'united kingdom', 'south africa'], dtype=object)"
      ]
     },
     "execution_count": 7,
     "metadata": {},
     "output_type": "execute_result"
    }
   ],
   "source": [
    "# Libraries\n",
    "import fuzzywuzzy\n",
    "from fuzzywuzzy import process\n",
    "import chardet\n",
    "\n",
    "# Set seed for reproducibility\n",
    "np.random.seed(0)\n",
    "\n",
    "# Function to replace rows in the provided column of the provided DataFrame\n",
    "# that match the provided string above the provided ratio with the provided string\n",
    "def replace_matches_in_column(df, column, string_to_match, min_ratio = 90):\n",
    "    # get a list of unique strings\n",
    "    strings = df[column].unique()\n",
    "    \n",
    "    # Get the top 10 closest matches to our input string\n",
    "    matches = fuzzywuzzy.process.extract(string_to_match, strings, \n",
    "                                         limit=10, scorer=fuzzywuzzy.fuzz.token_sort_ratio)\n",
    "\n",
    "    # Only get matches with a ratio > 90\n",
    "    close_matches = [matches[0] for matches in matches if matches[1] >= min_ratio]\n",
    "\n",
    "    # Get the rows of all the close matches in our dataframe\n",
    "    rows_with_matches = df[column].isin(close_matches)\n",
    "\n",
    "    # Replace all rows with close matches with the input matches \n",
    "    df.loc[rows_with_matches, column] = string_to_match\n",
    "    \n",
    "    # Let us know when the function is done\n",
    "    print(\"All done!\")\n",
    "\n",
    "\n",
    "\n",
    "replace_matches_in_column(df=df, column='country', string_to_match=\"south africa\")\n",
    "replace_matches_in_column(df=df, column='country', string_to_match=\"united kingdom\")\n",
    "replace_matches_in_column(df=df, column='country', string_to_match=\"united states\")\n",
    "replace_matches_in_column(df=df, column='country', string_to_match=\"britain\")\n",
    "replace_matches_in_column(df=df, column='country', string_to_match=\"uk\")\n",
    "replace_matches_in_column(df=df, column='country', string_to_match=\"sa\")\n",
    "replace_matches_in_column(df=df, column='country', string_to_match=\"america\")\n",
    "replace_matches_in_column(df=df, column='country', string_to_match=\"england\")\n",
    "replace_matches_in_column(df=df, column='country', string_to_match=\"united states of america\")\n",
    "replace_matches_in_column(df=df, column='country', string_to_match=\"africasouth africa\")\n",
    "replace_matches_in_column(df=df, column='country', string_to_match=\"u.k\")\n",
    "replace_matches_in_column(df=df, column='country', string_to_match=\"s.a\")\n",
    "df = df.replace(['america','united states of america'], 'united states')\n",
    "df = df.replace(['u.k','uk', 'england', 'britain'], 'united kingdom')\n",
    "df = df.replace(['sa','s.a', 'africasouth africa'], 'south africa')\n",
    "\n",
    "# Let us view the data\n",
    "countries = df['country'].unique()\n",
    "print(f\"There are {len(countries)} unique countries\")\n",
    "countries"
   ]
  },
  {
   "cell_type": "markdown",
   "metadata": {
    "id": "UJZDMTwP16Ws"
   },
   "source": [
    "3. Create a new column called `days_ago` in the DataFrame that is a copy of the 'date_measured' column but instead it is a number that shows how many days ago it was measured from the current date. Note that the current date can be obtained using `datetime.date.today()`."
   ]
  },
  {
   "cell_type": "code",
   "execution_count": 34,
   "metadata": {
    "id": "gMJbN84P16Wt"
   },
   "outputs": [
    {
     "name": "stdout",
     "output_type": "stream",
     "text": [
      "0      6657 days\n",
      "1      6688 days\n",
      "2      7533 days\n",
      "3      6564 days\n",
      "4     18724 days\n",
      "         ...    \n",
      "995    6777 days\n",
      "996   12183 days\n",
      "997    5481 days\n",
      "998    4853 days\n",
      "999    4531 days\n",
      "Name: days_ago, Length: 914, dtype: timedelta64[ns]\n"
     ]
    }
   ],
   "source": [
    "#df.dtypes\n",
    "from datetime import date\n",
    "today_Date = date.today()\n",
    "df['formatted_date'] = pd.to_datetime(df['date_measured'],format='mixed', dayfirst=True)\n",
    "df['days_ago'] = pd.Timestamp.now().normalize()- df['formatted_date'] \n",
    "print(df['days_ago'])\n",
    "\n"
   ]
  },
  {
   "cell_type": "code",
   "execution_count": null,
   "metadata": {},
   "outputs": [],
   "source": []
  },
  {
   "cell_type": "code",
   "execution_count": null,
   "metadata": {},
   "outputs": [],
   "source": []
  }
 ],
 "metadata": {
  "colab": {
   "provenance": []
  },
  "kernelspec": {
   "display_name": "Python 3 (ipykernel)",
   "language": "python",
   "name": "python3"
  },
  "language_info": {
   "codemirror_mode": {
    "name": "ipython",
    "version": 3
   },
   "file_extension": ".py",
   "mimetype": "text/x-python",
   "name": "python",
   "nbconvert_exporter": "python",
   "pygments_lexer": "ipython3",
   "version": "3.12.2"
  },
  "vscode": {
   "interpreter": {
    "hash": "63d17dc58a06b6a6d4136fb13c245dafcf53668da37b1c3052c24d689135f5bb"
   }
  }
 },
 "nbformat": 4,
 "nbformat_minor": 4
}
