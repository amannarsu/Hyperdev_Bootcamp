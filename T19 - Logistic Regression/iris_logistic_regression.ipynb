{
 "cells": [
  {
   "cell_type": "code",
   "execution_count": 59,
   "id": "1120e824-cd33-49bb-8440-e6e47a1a9b7e",
   "metadata": {},
   "outputs": [],
   "source": [
    "# importing libraries\n",
    "import numpy as np\n",
    "import pandas as pd\n",
    "import seaborn as sns\n",
    "import matplotlib.pyplot as plt\n",
    "from sklearn.datasets import load_iris\n",
    "from sklearn.model_selection import train_test_split\n",
    "from sklearn.linear_model import LogisticRegression\n",
    "from sklearn import preprocessing\n",
    "from sklearn.preprocessing import LabelEncoder\n",
    "from sklearn.metrics import confusion_matrix\n"
   ]
  },
  {
   "cell_type": "markdown",
   "id": "45f25d90-8ad7-4801-8f44-204b0b340efa",
   "metadata": {},
   "source": [
    "## Begin by reading the Iris dataset (Iris.csv) into a Jupyter notebook and name it iris_logistic_regression.ipynb."
   ]
  },
  {
   "cell_type": "code",
   "execution_count": 44,
   "id": "bb1a2709-df10-4905-8bf9-d322f0156490",
   "metadata": {},
   "outputs": [],
   "source": [
    "# Import the dataset\n",
    "df = pd.read_csv(\"Iris.csv\")"
   ]
  },
  {
   "cell_type": "code",
   "execution_count": 45,
   "id": "167fe66e-906b-46f6-95ef-b26e1c652586",
   "metadata": {},
   "outputs": [
    {
     "name": "stdout",
     "output_type": "stream",
     "text": [
      "\n",
      "Size of rows/columns: (150, 6)\n",
      "\n",
      "<class 'pandas.core.frame.DataFrame'>\n",
      "RangeIndex: 150 entries, 0 to 149\n",
      "Data columns (total 6 columns):\n",
      " #   Column         Non-Null Count  Dtype  \n",
      "---  ------         --------------  -----  \n",
      " 0   Id             150 non-null    int64  \n",
      " 1   SepalLengthCm  150 non-null    float64\n",
      " 2   SepalWidthCm   150 non-null    float64\n",
      " 3   PetalLengthCm  150 non-null    float64\n",
      " 4   PetalWidthCm   150 non-null    float64\n",
      " 5   Species        150 non-null    object \n",
      "dtypes: float64(4), int64(1), object(1)\n",
      "memory usage: 7.2+ KB\n",
      "None \n",
      "\n",
      "\n",
      "Checking for if there are null values: \n",
      "Id               0\n",
      "SepalLengthCm    0\n",
      "SepalWidthCm     0\n",
      "PetalLengthCm    0\n",
      "PetalWidthCm     0\n",
      "Species          0\n",
      "dtype: int64\n",
      "\n",
      "Checking the first 5 Rows and all columns of data: \n",
      "      Id  SepalLengthCm  SepalWidthCm  PetalLengthCm  PetalWidthCm  \\\n",
      "0      1            5.1           3.5            1.4           0.2   \n",
      "1      2            4.9           3.0            1.4           0.2   \n",
      "2      3            4.7           3.2            1.3           0.2   \n",
      "3      4            4.6           3.1            1.5           0.2   \n",
      "4      5            5.0           3.6            1.4           0.2   \n",
      "..   ...            ...           ...            ...           ...   \n",
      "145  146            6.7           3.0            5.2           2.3   \n",
      "146  147            6.3           2.5            5.0           1.9   \n",
      "147  148            6.5           3.0            5.2           2.0   \n",
      "148  149            6.2           3.4            5.4           2.3   \n",
      "149  150            5.9           3.0            5.1           1.8   \n",
      "\n",
      "            Species  \n",
      "0       Iris-setosa  \n",
      "1       Iris-setosa  \n",
      "2       Iris-setosa  \n",
      "3       Iris-setosa  \n",
      "4       Iris-setosa  \n",
      "..              ...  \n",
      "145  Iris-virginica  \n",
      "146  Iris-virginica  \n",
      "147  Iris-virginica  \n",
      "148  Iris-virginica  \n",
      "149  Iris-virginica  \n",
      "\n",
      "[150 rows x 6 columns]\n",
      "\n",
      "['Iris-setosa' 'Iris-versicolor' 'Iris-virginica']\n"
     ]
    }
   ],
   "source": [
    "#BASIC CHECKS#\n",
    "\n",
    "#check no of rows and columns\n",
    "print(f\"\\nSize of rows/columns: {df.shape}\\n\")\n",
    "\n",
    "#check details of the dataset\n",
    "print(df.info(),\"\\n\")\n",
    "\n",
    "#checking for null values\n",
    "print(f\"\\nChecking for if there are null values: \\n{df.isnull().sum()}\")\n",
    "\n",
    "# Check the 1st 5 values in the dataset\n",
    "print(f\"\\nChecking the first 5 Rows and all columns of data: \\n{df.head(150)}\\n\")\n",
    "\n",
    "a= df['Species'].unique()\n",
    "print(a)"
   ]
  },
  {
   "cell_type": "markdown",
   "id": "eae3fad2-0e1c-4cd8-9a3e-dfa9df3b4743",
   "metadata": {},
   "source": [
    "#### Observation:\n",
    "##### 1 - There are 150 rows and 6 columns\n",
    "##### 2 - The datatype for all columns is numerical except 'Species' which seems to be categorical data(Object)\n",
    "##### 3 - There is no null values in the data\n",
    "##### 4 - There is no obvious errors in the dataframe"
   ]
  },
  {
   "cell_type": "markdown",
   "id": "d790eb48-7afe-47a8-8219-48584c89b1fd",
   "metadata": {},
   "source": [
    "### The dataset consists of three classes of irises. The objective is to create a classifier that will predict whether an iris belongs to the ‘Iris-setosa' class or not. This means that we have two classes: ‘Iris-setosa' and not-‘Iris-setosa’ (which includes ' Iris-versicolour' and 'Iris-virginica').\n",
    "#### ○ Identify your independent variable x.\n",
    "#### ○ Encode your dependent variable y such that ‘Iris-setosa' is encoded as 0, and 'Iris-versicolour' and 'Iris-virginica' are both encoded as\n",
    "##### (0 corresponds to the 'Iris-setosa' class, and 1 corresponds to the not-‘Iris-setosa' class.)"
   ]
  },
  {
   "cell_type": "code",
   "execution_count": 46,
   "id": "ce9e9ebf-99a3-4d54-909d-aa3b5f04cfe6",
   "metadata": {},
   "outputs": [
    {
     "name": "stdout",
     "output_type": "stream",
     "text": [
      "[0 1]\n"
     ]
    }
   ],
   "source": [
    "#Independent variables for x\n",
    "\n",
    "\n",
    "#transforming the type object to intergers for logistic regression\n",
    "df['Species'] = LabelEncoder().fit_transform(df['Species'] != \"Iris-setosa\")\n",
    "\n",
    "#gettign the unique values in Species\n",
    "encode_worked = df['Species'].unique()\n",
    "\n",
    "#checking if the encoding worked\n",
    "print(encode_worked)"
   ]
  },
  {
   "cell_type": "code",
   "execution_count": 47,
   "id": "ada3bd8f-5c91-47e9-a32a-ed73a83c0db4",
   "metadata": {},
   "outputs": [
    {
     "name": "stdout",
     "output_type": "stream",
     "text": [
      "<class 'pandas.core.frame.DataFrame'>\n",
      "RangeIndex: 150 entries, 0 to 149\n",
      "Data columns (total 6 columns):\n",
      " #   Column         Non-Null Count  Dtype  \n",
      "---  ------         --------------  -----  \n",
      " 0   Id             150 non-null    int64  \n",
      " 1   SepalLengthCm  150 non-null    float64\n",
      " 2   SepalWidthCm   150 non-null    float64\n",
      " 3   PetalLengthCm  150 non-null    float64\n",
      " 4   PetalWidthCm   150 non-null    float64\n",
      " 5   Species        150 non-null    int64  \n",
      "dtypes: float64(4), int64(2)\n",
      "memory usage: 7.2 KB\n",
      "None \n",
      "\n"
     ]
    },
    {
     "data": {
      "text/html": [
       "<div>\n",
       "<style scoped>\n",
       "    .dataframe tbody tr th:only-of-type {\n",
       "        vertical-align: middle;\n",
       "    }\n",
       "\n",
       "    .dataframe tbody tr th {\n",
       "        vertical-align: top;\n",
       "    }\n",
       "\n",
       "    .dataframe thead th {\n",
       "        text-align: right;\n",
       "    }\n",
       "</style>\n",
       "<table border=\"1\" class=\"dataframe\">\n",
       "  <thead>\n",
       "    <tr style=\"text-align: right;\">\n",
       "      <th></th>\n",
       "      <th>Id</th>\n",
       "      <th>SepalLengthCm</th>\n",
       "      <th>SepalWidthCm</th>\n",
       "      <th>PetalLengthCm</th>\n",
       "      <th>PetalWidthCm</th>\n",
       "      <th>Species</th>\n",
       "    </tr>\n",
       "  </thead>\n",
       "  <tbody>\n",
       "    <tr>\n",
       "      <th>0</th>\n",
       "      <td>1</td>\n",
       "      <td>5.1</td>\n",
       "      <td>3.5</td>\n",
       "      <td>1.4</td>\n",
       "      <td>0.2</td>\n",
       "      <td>0</td>\n",
       "    </tr>\n",
       "    <tr>\n",
       "      <th>1</th>\n",
       "      <td>2</td>\n",
       "      <td>4.9</td>\n",
       "      <td>3.0</td>\n",
       "      <td>1.4</td>\n",
       "      <td>0.2</td>\n",
       "      <td>0</td>\n",
       "    </tr>\n",
       "    <tr>\n",
       "      <th>2</th>\n",
       "      <td>3</td>\n",
       "      <td>4.7</td>\n",
       "      <td>3.2</td>\n",
       "      <td>1.3</td>\n",
       "      <td>0.2</td>\n",
       "      <td>0</td>\n",
       "    </tr>\n",
       "    <tr>\n",
       "      <th>3</th>\n",
       "      <td>4</td>\n",
       "      <td>4.6</td>\n",
       "      <td>3.1</td>\n",
       "      <td>1.5</td>\n",
       "      <td>0.2</td>\n",
       "      <td>0</td>\n",
       "    </tr>\n",
       "    <tr>\n",
       "      <th>4</th>\n",
       "      <td>5</td>\n",
       "      <td>5.0</td>\n",
       "      <td>3.6</td>\n",
       "      <td>1.4</td>\n",
       "      <td>0.2</td>\n",
       "      <td>0</td>\n",
       "    </tr>\n",
       "    <tr>\n",
       "      <th>...</th>\n",
       "      <td>...</td>\n",
       "      <td>...</td>\n",
       "      <td>...</td>\n",
       "      <td>...</td>\n",
       "      <td>...</td>\n",
       "      <td>...</td>\n",
       "    </tr>\n",
       "    <tr>\n",
       "      <th>145</th>\n",
       "      <td>146</td>\n",
       "      <td>6.7</td>\n",
       "      <td>3.0</td>\n",
       "      <td>5.2</td>\n",
       "      <td>2.3</td>\n",
       "      <td>1</td>\n",
       "    </tr>\n",
       "    <tr>\n",
       "      <th>146</th>\n",
       "      <td>147</td>\n",
       "      <td>6.3</td>\n",
       "      <td>2.5</td>\n",
       "      <td>5.0</td>\n",
       "      <td>1.9</td>\n",
       "      <td>1</td>\n",
       "    </tr>\n",
       "    <tr>\n",
       "      <th>147</th>\n",
       "      <td>148</td>\n",
       "      <td>6.5</td>\n",
       "      <td>3.0</td>\n",
       "      <td>5.2</td>\n",
       "      <td>2.0</td>\n",
       "      <td>1</td>\n",
       "    </tr>\n",
       "    <tr>\n",
       "      <th>148</th>\n",
       "      <td>149</td>\n",
       "      <td>6.2</td>\n",
       "      <td>3.4</td>\n",
       "      <td>5.4</td>\n",
       "      <td>2.3</td>\n",
       "      <td>1</td>\n",
       "    </tr>\n",
       "    <tr>\n",
       "      <th>149</th>\n",
       "      <td>150</td>\n",
       "      <td>5.9</td>\n",
       "      <td>3.0</td>\n",
       "      <td>5.1</td>\n",
       "      <td>1.8</td>\n",
       "      <td>1</td>\n",
       "    </tr>\n",
       "  </tbody>\n",
       "</table>\n",
       "<p>150 rows × 6 columns</p>\n",
       "</div>"
      ],
      "text/plain": [
       "      Id  SepalLengthCm  SepalWidthCm  PetalLengthCm  PetalWidthCm  Species\n",
       "0      1            5.1           3.5            1.4           0.2        0\n",
       "1      2            4.9           3.0            1.4           0.2        0\n",
       "2      3            4.7           3.2            1.3           0.2        0\n",
       "3      4            4.6           3.1            1.5           0.2        0\n",
       "4      5            5.0           3.6            1.4           0.2        0\n",
       "..   ...            ...           ...            ...           ...      ...\n",
       "145  146            6.7           3.0            5.2           2.3        1\n",
       "146  147            6.3           2.5            5.0           1.9        1\n",
       "147  148            6.5           3.0            5.2           2.0        1\n",
       "148  149            6.2           3.4            5.4           2.3        1\n",
       "149  150            5.9           3.0            5.1           1.8        1\n",
       "\n",
       "[150 rows x 6 columns]"
      ]
     },
     "execution_count": 47,
     "metadata": {},
     "output_type": "execute_result"
    }
   ],
   "source": [
    "#check details of the dataset\n",
    "print(df.info(),\"\\n\")\n",
    "\n",
    "#checking if LabelEncoder has worked\n",
    "df.head(150)"
   ]
  },
  {
   "cell_type": "code",
   "execution_count": 48,
   "id": "ae598b5c-4753-46b3-94be-27fb4707925d",
   "metadata": {},
   "outputs": [
    {
     "data": {
      "text/plain": [
       "array([[1. , 5.1, 3.5, 1.4, 0.2],\n",
       "       [2. , 4.9, 3. , 1.4, 0.2],\n",
       "       [3. , 4.7, 3.2, 1.3, 0.2],\n",
       "       [4. , 4.6, 3.1, 1.5, 0.2]])"
      ]
     },
     "execution_count": 48,
     "metadata": {},
     "output_type": "execute_result"
    }
   ],
   "source": [
    "#Seperated the Data into X and y for futher processing\n",
    "X = df.drop('Species', axis=1).values\n",
    "y = df['Species'].values\n",
    "#Checking data is getting stored properly in x\n",
    "X[:4]"
   ]
  },
  {
   "cell_type": "code",
   "execution_count": 53,
   "id": "ea55a10a-6e0f-4620-b441-7ec843e4bd48",
   "metadata": {},
   "outputs": [
    {
     "name": "stdout",
     "output_type": "stream",
     "text": [
      "data: (150, 5) (150, 1)\n"
     ]
    }
   ],
   "source": [
    "# Select and reshape data\n",
    "y = y.reshape(-1, 1)\n",
    "X = X.reshape(-1, X.shape[1])\n",
    "\n",
    "print (\"data:\",X.shape, y.shape)"
   ]
  },
  {
   "cell_type": "markdown",
   "id": "260df41c-d1cd-40d5-ac7d-ebf2cdf8ede2",
   "metadata": {},
   "source": [
    "## Split the data into a training and test set."
   ]
  },
  {
   "cell_type": "code",
   "execution_count": 54,
   "id": "f95bde01-5471-46c2-95a3-6b95a6370fdb",
   "metadata": {},
   "outputs": [
    {
     "name": "stdout",
     "output_type": "stream",
     "text": [
      "Training data: (120, 5) (120, 1)\n",
      "Test data: (30, 5) (30, 1)\n"
     ]
    }
   ],
   "source": [
    "#TRAINING AND TESTS\n",
    "\n",
    "# Split data into training and test sets\n",
    "rseed = 23 # Use the same random seed for learning purposes to get the same result\n",
    "X_train, X_test, y_train, y_test = train_test_split(X, y, test_size = 0.20,  random_state=rseed)\n",
    "\n",
    "#Confirming if the data has been split correctly\n",
    "print (\"Training data:\",X_train.shape, y_train.shape)\n",
    "print (\"Test data:\",X_test.shape, y_test.shape)"
   ]
  },
  {
   "cell_type": "markdown",
   "id": "402c1124-d56c-49a7-a284-e4f3c10553c4",
   "metadata": {},
   "source": [
    "## Use sklearn’s logistic regression function to fit a model and make predictions on the test set."
   ]
  },
  {
   "cell_type": "code",
   "execution_count": 90,
   "id": "702244e2-193f-44aa-9768-d84a9e2c3970",
   "metadata": {},
   "outputs": [],
   "source": [
    "# fit a model\n",
    "log_reg = LogisticRegression()\n",
    "log_reg.fit(X_train, y_train.ravel())\n",
    "\n",
    "# make predictions on test data\n",
    "y_pred = log_reg.predict(X_test).reshape(-1,1)"
   ]
  },
  {
   "cell_type": "markdown",
   "id": "2a8c987a-096d-483e-b023-48ee9c9eba38",
   "metadata": {},
   "source": [
    "## Use sklearn to generate a confusion matrix, which compares the predicted labels to the actual labels (gold labels)."
   ]
  },
  {
   "cell_type": "code",
   "execution_count": 94,
   "id": "eaca9246-cc97-475d-b731-73cf72a98ad8",
   "metadata": {},
   "outputs": [
    {
     "name": "stdout",
     "output_type": "stream",
     "text": [
      "Comparison:\n",
      "    0   1\n",
      "0  12   0\n",
      "1   0  18\n",
      "Above comparison 0 ('Iris-setosa') and 1 ('Iris-versicolour' or 'Iris-virginica')\n"
     ]
    }
   ],
   "source": [
    "classes = np.unique(y_test)\n",
    "\n",
    "#comparing the predicted lables with actual lables\n",
    "conf_mat = confusion_matrix(y_test, y_pred)\n",
    "#Creating a dataframe for output with Labels 0(\"Iris-setosa\") and 1('Iris-versicolour' and 'Iris-virginica')\n",
    "matrix_df = pd.DataFrame(conf_mat, columns=classes, index=classes)\n",
    "print(f\"Comparison:\\n{matrix_df}\\nAbove comparison 0 ('Iris-setosa') and 1 ('Iris-versicolour' or 'Iris-virginica')\")"
   ]
  },
  {
   "cell_type": "markdown",
   "id": "955d0a40-5a9d-411c-b514-3db4535d6f33",
   "metadata": {},
   "source": [
    "## Analyse the confusion matrix and provide a prediction, in a comment, on whether the model is likely to have higher precision, higher recall, or similar precision and recall."
   ]
  },
  {
   "cell_type": "markdown",
   "id": "760063fe-1acf-4d2f-aa17-479adecad2e0",
   "metadata": {},
   "source": [
    "Based on the data and since its a dataframe of 2 columns with limited data, and based on the confusion matrix having values in a diagonal line which seems to be generally correct. the model seem to be correct"
   ]
  },
  {
   "cell_type": "markdown",
   "id": "fc569fdf-6381-4873-8e24-79a0a76f8840",
   "metadata": {},
   "source": [
    "## Write your own code to calculate the accuracy, precision, and recall, and check whether your prediction was right"
   ]
  },
  {
   "cell_type": "code",
   "execution_count": 89,
   "id": "a2d6df58-0946-4c06-873f-aeb2d8912879",
   "metadata": {},
   "outputs": [
    {
     "name": "stdout",
     "output_type": "stream",
     "text": [
      "accuracy: 1.0\n",
      "Precision: 1.0\n",
      "Recall: 1.0\n"
     ]
    }
   ],
   "source": [
    "from sklearn.metrics import f1_score, precision_score, recall_score, accuracy_score\n",
    "\n",
    "# Accuracy, precision and recall for Iris-setosa  \n",
    "acc = accuracy_score(y_test, y_pred)\n",
    "prec = precision_score(y_test, y_pred)\n",
    "rec = recall_score(y_test, y_pred)\n",
    "print('Accuracy:', acc)\n",
    "print('Precision:', prec)\n",
    "print('Recall:', rec)\n"
   ]
  },
  {
   "cell_type": "markdown",
   "id": "b73ebd07-5e81-41e2-af20-bf06075b70cd",
   "metadata": {},
   "source": [
    "The above data confirms that the predictions was correct"
   ]
  },
  {
   "cell_type": "code",
   "execution_count": null,
   "id": "119e1162-ead5-46f9-aee4-839dd8ffe1f7",
   "metadata": {},
   "outputs": [],
   "source": []
  },
  {
   "cell_type": "code",
   "execution_count": null,
   "id": "d7fcd18e-19a5-4d27-8856-354c2d75559a",
   "metadata": {},
   "outputs": [],
   "source": []
  },
  {
   "cell_type": "code",
   "execution_count": null,
   "id": "15b31418-eb8d-427c-bbcb-877ce1b871c9",
   "metadata": {},
   "outputs": [],
   "source": []
  }
 ],
 "metadata": {
  "kernelspec": {
   "display_name": "Python 3 (ipykernel)",
   "language": "python",
   "name": "python3"
  },
  "language_info": {
   "codemirror_mode": {
    "name": "ipython",
    "version": 3
   },
   "file_extension": ".py",
   "mimetype": "text/x-python",
   "name": "python",
   "nbconvert_exporter": "python",
   "pygments_lexer": "ipython3",
   "version": "3.12.3"
  }
 },
 "nbformat": 4,
 "nbformat_minor": 5
}
